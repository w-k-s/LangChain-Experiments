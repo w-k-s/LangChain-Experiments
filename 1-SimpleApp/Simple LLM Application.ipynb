{
 "cells": [
  {
   "cell_type": "markdown",
   "id": "d5a46d7e-79c2-4b63-bc9d-f662e45e2c1e",
   "metadata": {},
   "source": [
    "# Simple LLM Application\n",
    "\n",
    "[Tutorial](https://python.langchain.com/docs/tutorials/llm_chain/)"
   ]
  },
  {
   "cell_type": "markdown",
   "id": "d15ca811-92de-4c09-9a39-3e572e5e9ebe",
   "metadata": {},
   "source": [
    "## Setup"
   ]
  },
  {
   "cell_type": "code",
   "execution_count": 3,
   "id": "b1659e27-3c3d-4d05-ba4a-8e6179df497d",
   "metadata": {},
   "outputs": [],
   "source": [
    "import os\n",
    "\n",
    "try:\n",
    "    # load environment variables from .env file (requires `python-dotenv`)\n",
    "    from dotenv import load_dotenv\n",
    "\n",
    "    load_dotenv()\n",
    "except ImportError:\n",
    "    pass\n",
    "\n",
    "assert os.environ[\"LANGSMITH_TRACING\"] is not None\n",
    "assert os.environ[\"LANGSMITH_API_KEY\"] is not None\n",
    "assert os.environ[\"LANGSMITH_PROJECT\"] is not None\n",
    "assert os.environ[\"OPENAI_API_KEY\"] is not None"
   ]
  },
  {
   "cell_type": "code",
   "execution_count": 4,
   "id": "229040b7-177d-4d53-b3c1-c4614619b6e2",
   "metadata": {},
   "outputs": [],
   "source": [
    "from langchain.chat_models import init_chat_model\n",
    "\n",
    "model = init_chat_model(\"gpt-4o-mini\", model_provider=\"openai\")"
   ]
  },
  {
   "cell_type": "markdown",
   "id": "7fe48d72-4ab2-4c75-9ecc-90a12b25b35d",
   "metadata": {},
   "source": [
    "## ChatModels\n",
    "\n",
    "- ChatModels are instances of LangChain [Runnables](https://python.langchain.com/docs/concepts/runnables/), which means they expose a standard interface for interacting with them.\n",
    "- ChatModels receive [message](https://python.langchain.com/docs/concepts/messages/) objects as input and generate message objects as output.\n",
    "- In addition to text content, message objects convey conversational [roles](https://python.langchain.com/docs/concepts/messages/#role) and hold important data, such as tool calls and token usage counts."
   ]
  },
  {
   "cell_type": "code",
   "execution_count": 5,
   "id": "7b6b9058-197f-4ff6-940d-b6edd696171f",
   "metadata": {},
   "outputs": [
    {
     "data": {
      "text/plain": [
       "AIMessage(content='مرحبًا!', additional_kwargs={'refusal': None}, response_metadata={'token_usage': {'completion_tokens': 4, 'prompt_tokens': 20, 'total_tokens': 24, 'completion_tokens_details': {'accepted_prediction_tokens': 0, 'audio_tokens': 0, 'reasoning_tokens': 0, 'rejected_prediction_tokens': 0}, 'prompt_tokens_details': {'audio_tokens': 0, 'cached_tokens': 0}}, 'model_name': 'gpt-4o-mini-2024-07-18', 'system_fingerprint': None, 'id': 'chatcmpl-BtqXhoXU5mMCcVHuOB8zeQnW2EmuY', 'service_tier': 'default', 'finish_reason': 'stop', 'logprobs': None}, id='run--d160c7bb-f7eb-4158-80f9-c2168c6ad727-0', usage_metadata={'input_tokens': 20, 'output_tokens': 4, 'total_tokens': 24, 'input_token_details': {'audio': 0, 'cache_read': 0}, 'output_token_details': {'audio': 0, 'reasoning': 0}})"
      ]
     },
     "execution_count": 5,
     "metadata": {},
     "output_type": "execute_result"
    }
   ],
   "source": [
    "from langchain_core.messages import HumanMessage, SystemMessage\n",
    "\n",
    "messages = [\n",
    "    SystemMessage(\"Translate the following from English into Arabic\"),\n",
    "    HumanMessage(\"hi!\"),\n",
    "]\n",
    "\n",
    "model.invoke(messages)"
   ]
  },
  {
   "cell_type": "markdown",
   "id": "6922f231-8186-4ca0-ac2a-d18d3edbe31a",
   "metadata": {},
   "source": [
    "LangChain also supports chat model inputs via strings or OpenAI format. The following are equivalent:\n",
    "\n",
    "```python\n",
    "model.invoke(\"Hello\")\n",
    "model.invoke([{\"role\": \"user\", \"content\": \"Hello\"}])\n",
    "model.invoke([HumanMessage(\"Hello\")])\n",
    "```"
   ]
  },
  {
   "cell_type": "markdown",
   "id": "448e5934-8827-45e6-8492-1c4a52a41db9",
   "metadata": {},
   "source": [
    "Runnables such as ChatModels expose a standard interface which includes streaming responses."
   ]
  },
  {
   "cell_type": "code",
   "execution_count": 7,
   "id": "0ccb6778-eb0d-4b38-a2f6-175920f522da",
   "metadata": {},
   "outputs": [
    {
     "name": "stdout",
     "output_type": "stream",
     "text": [
      "|مر|حب|ًا|!||"
     ]
    }
   ],
   "source": [
    "for token in model.stream(messages):\n",
    "    print(token.content, end=\"|\")"
   ]
  },
  {
   "cell_type": "markdown",
   "id": "ca049c8b-b455-4ad2-9db6-efff78e19a1d",
   "metadata": {},
   "source": [
    "## Prompt Templates"
   ]
  },
  {
   "cell_type": "markdown",
   "id": "6c0103ff-f634-41e2-8687-9df2546b8b25",
   "metadata": {},
   "source": [
    "- Prompt Templates are like prepared statements in SQL.\n",
    "- [Prompt templates](https://python.langchain.com/docs/concepts/prompt_templates/) are a concept in LangChain designed to assist with this transformation. They take in raw user input and return data (a prompt) that is ready to pass into a language model."
   ]
  },
  {
   "cell_type": "code",
   "execution_count": 15,
   "id": "83708b44-d662-45a7-a9fe-717bb3821daa",
   "metadata": {},
   "outputs": [
    {
     "data": {
      "text/plain": [
       "ChatPromptValue(messages=[SystemMessage(content='Translate the following from English into Italian', additional_kwargs={}, response_metadata={}), HumanMessage(content='hi!', additional_kwargs={}, response_metadata={})])"
      ]
     },
     "execution_count": 15,
     "metadata": {},
     "output_type": "execute_result"
    }
   ],
   "source": [
    "from langchain_core.prompts import ChatPromptTemplate\n",
    "\n",
    "system_template = \"Translate the following from English into {language}\"\n",
    "\n",
    "## Prompt Template composes the prompt using input\n",
    "prompt_template = ChatPromptTemplate.from_messages(\n",
    "    [(\"system\", system_template), (\"user\", \"{text}\")])\n",
    "prompt = prompt_template.invoke({\"language\": \"Italian\", \"text\": \"hi!\"})\n",
    "prompt"
   ]
  },
  {
   "cell_type": "code",
   "execution_count": 16,
   "id": "b116a8a9-64b6-4859-abcb-981341a4231d",
   "metadata": {},
   "outputs": [
    {
     "data": {
      "text/plain": [
       "AIMessage(content='Ciao!', additional_kwargs={'refusal': None}, response_metadata={'token_usage': {'completion_tokens': 3, 'prompt_tokens': 20, 'total_tokens': 23, 'completion_tokens_details': {'accepted_prediction_tokens': 0, 'audio_tokens': 0, 'reasoning_tokens': 0, 'rejected_prediction_tokens': 0}, 'prompt_tokens_details': {'audio_tokens': 0, 'cached_tokens': 0}}, 'model_name': 'gpt-4o-mini-2024-07-18', 'system_fingerprint': None, 'id': 'chatcmpl-BtqksEqe6NiQcCW7CUxNa9j3dSWi3', 'service_tier': 'default', 'finish_reason': 'stop', 'logprobs': None}, id='run--4ca0e3ab-9ac9-4222-bfa1-1d03cb7d011f-0', usage_metadata={'input_tokens': 20, 'output_tokens': 3, 'total_tokens': 23, 'input_token_details': {'audio': 0, 'cache_read': 0}, 'output_token_details': {'audio': 0, 'reasoning': 0}})"
      ]
     },
     "execution_count": 16,
     "metadata": {},
     "output_type": "execute_result"
    }
   ],
   "source": [
    "model.invoke(prompt)"
   ]
  }
 ],
 "metadata": {
  "kernelspec": {
   "display_name": "Python 3 (ipykernel)",
   "language": "python",
   "name": "python3"
  },
  "language_info": {
   "codemirror_mode": {
    "name": "ipython",
    "version": 3
   },
   "file_extension": ".py",
   "mimetype": "text/x-python",
   "name": "python",
   "nbconvert_exporter": "python",
   "pygments_lexer": "ipython3",
   "version": "3.13.5"
  }
 },
 "nbformat": 4,
 "nbformat_minor": 5
}
