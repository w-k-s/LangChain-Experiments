{
 "cells": [
  {
   "cell_type": "markdown",
   "id": "d2beb3ef-cb0b-472b-a20e-a73e9e7d794f",
   "metadata": {},
   "source": [
    "# Semantic Search"
   ]
  },
  {
   "cell_type": "markdown",
   "id": "7cbbaf36-0ebd-44cf-8564-ea4a221cfc8b",
   "metadata": {},
   "source": [
    "1. Read data from a document  \n",
    "2. Learn how LLMs represent data using embeddings  \n",
    "3. Understand how embeddings are stored for future retrieval using vector databases"
   ]
  },
  {
   "cell_type": "markdown",
   "id": "845d4fa5-7a1a-43f9-8fbf-5bc98c1a7e56",
   "metadata": {},
   "source": [
    "## Setup"
   ]
  },
  {
   "cell_type": "code",
   "execution_count": 3,
   "id": "c66150b2-1b72-4e86-9aba-8401489958fa",
   "metadata": {},
   "outputs": [],
   "source": [
    "import os\n",
    "\n",
    "try:\n",
    "    # load environment variables from .env file (requires `python-dotenv`)\n",
    "    from dotenv import load_dotenv\n",
    "\n",
    "    load_dotenv()\n",
    "except ImportError:\n",
    "    pass\n",
    "\n",
    "assert os.environ[\"LANGSMITH_TRACING\"] is not None\n",
    "assert os.environ[\"LANGSMITH_API_KEY\"] is not None\n",
    "assert os.environ[\"LANGSMITH_PROJECT\"] is not None\n",
    "assert os.environ[\"OPENAI_API_KEY\"] is not None"
   ]
  },
  {
   "cell_type": "code",
   "execution_count": 4,
   "id": "c57bfe4f-326a-4f09-8528-af590d87bd1c",
   "metadata": {},
   "outputs": [],
   "source": [
    "from langchain.chat_models import init_chat_model\n",
    "model = init_chat_model(\"gpt-4o-mini\", model_provider=\"openai\")"
   ]
  },
  {
   "cell_type": "markdown",
   "id": "deefcc36-c8fa-446d-a97b-598161d7de5a",
   "metadata": {},
   "source": [
    "## 1. Documents"
   ]
  },
  {
   "cell_type": "markdown",
   "id": "25550f32-2f8f-44a5-974b-7f31e3e8b05c",
   "metadata": {},
   "source": [
    "- LangChain implements a [Document](https://python.langchain.com/api_reference/core/documents/langchain_core.documents.base.Document.html) abstraction, which is intended to represent a unit of text and associated metadata. \n",
    "- It has three attributes:\n",
    "    - **page_content**: a string representing the content;\n",
    "    - **metadata**: a dict containing arbitrary metadata;\n",
    "    - **id**: (optional) a string identifier for the document.\n",
    "- **IMPORTANT NOTE**: A Document object often represents a chunk of a larger document."
   ]
  },
  {
   "cell_type": "markdown",
   "id": "fac3e56a-c225-457f-9189-5a4970ccf987",
   "metadata": {},
   "source": [
    "### 1.1 Metadata\n",
    "\n",
    "- The metadata attribute can capture information about the source of the document (e.g. the original PDF document the text is from, page number and so on), its relationship to other documents, and other information. "
   ]
  },
  {
   "cell_type": "code",
   "execution_count": 5,
   "id": "8a78d2f2-ccc8-44c2-9fd8-62d8266fd4ed",
   "metadata": {},
   "outputs": [],
   "source": [
    "from langchain_core.documents import Document\n",
    "\n",
    "documents = [\n",
    "    Document(\n",
    "        page_content=\"Dogs are great companions, known for their loyalty and friendliness.\",\n",
    "        metadata={\"source\": \"mammal-pets-doc\"},\n",
    "    ),\n",
    "    Document(\n",
    "        page_content=\"Cats are independent pets that often enjoy their own space.\",\n",
    "        metadata={\"source\": \"mammal-pets-doc\"},\n",
    "    ),\n",
    "]"
   ]
  },
  {
   "cell_type": "markdown",
   "id": "63980329-0111-49c8-9190-e2d35655e0c7",
   "metadata": {},
   "source": [
    "## 2. Loading Documentsfrom langchain_community.document_loaders import PyPDFLoader\n",
    "\n",
    "We will load a PDF Document. "
   ]
  },
  {
   "cell_type": "code",
   "execution_count": null,
   "id": "3e367ad8-46c5-4b53-861a-461d3860d854",
   "metadata": {},
   "outputs": [
    {
     "name": "stdout",
     "output_type": "stream",
     "text": [
      "107\n"
     ]
    }
   ],
   "source": [
    "from langchain_community.document_loaders import PyPDFLoader\n",
    "\n",
    "file_path = \"./example_data/2-Semantic-Search/nke-10k-2023.pdf\"\n",
    "loader = PyPDFLoader(file_path)\n",
    "\n",
    "docs = loader.load()\n",
    "\n",
    "print(len(docs))"
   ]
  },
  {
   "cell_type": "markdown",
   "id": "91eef5ad-72cb-4392-8fa8-09923154f93c",
   "metadata": {},
   "source": [
    "- Note that the number of documents is ~107 i.e. A digital docuemnt consists of a number of LangChain Document Objects.\n",
    "- PyPDFLoader loads one Document object per PDF page. For each, we can easily access\n",
    "- **107 document object therefore means 107 pages in the original document**"
   ]
  },
  {
   "cell_type": "code",
   "execution_count": 7,
   "id": "7ff641ad-1e89-45e3-b3d0-8ac26f140032",
   "metadata": {},
   "outputs": [
    {
     "name": "stdout",
     "output_type": "stream",
     "text": [
      "Table of Contents\n",
      "UNITED STATES\n",
      "SECURITIES AND EXCHANGE COMMISSION\n",
      "Washington, D.C. 20549\n",
      "FORM 10-K\n",
      "(Mark One)\n",
      "☑  ANNUAL REPORT PURSUANT TO SECTION 13 OR 15(D) OF THE SECURITIES EXCHANGE ACT OF 1934\n",
      "F\n",
      "\n"
     ]
    }
   ],
   "source": [
    "print(f\"{docs[0].page_content[:200]}\\n\")"
   ]
  },
  {
   "cell_type": "markdown",
   "id": "8de14f8a-0af8-48e5-83fd-f909a186a716",
   "metadata": {},
   "source": [
    "PyPDFLoader automatically adds document source and page number in the metadata"
   ]
  },
  {
   "cell_type": "code",
   "execution_count": 8,
   "id": "9916bad7-ddea-45be-9c68-68ec8ad660ce",
   "metadata": {},
   "outputs": [
    {
     "name": "stdout",
     "output_type": "stream",
     "text": [
      "{\n",
      "  \"producer\": \"EDGRpdf Service w/ EO.Pdf 22.0.40.0\",\n",
      "  \"creator\": \"EDGAR Filing HTML Converter\",\n",
      "  \"creationdate\": \"2023-07-20T16:22:00-04:00\",\n",
      "  \"title\": \"0000320187-23-000039\",\n",
      "  \"author\": \"EDGAR Online, a division of Donnelley Financial Solutions\",\n",
      "  \"subject\": \"Form 10-K filed on 2023-07-20 for the period ending 2023-05-31\",\n",
      "  \"keywords\": \"0000320187-23-000039; ; 10-K\",\n",
      "  \"moddate\": \"2023-07-20T16:22:08-04:00\",\n",
      "  \"source\": \"./example_data/nke-10k-2023.pdf\",\n",
      "  \"total_pages\": 107,\n",
      "  \"page\": 0,\n",
      "  \"page_label\": \"1\"\n",
      "}\n"
     ]
    }
   ],
   "source": [
    "import json\n",
    "print(json.dumps(docs[0].metadata,indent=2))"
   ]
  },
  {
   "cell_type": "markdown",
   "id": "5d58f4a3-199e-4e8b-8aa9-5d021e4b97db",
   "metadata": {},
   "source": [
    "### 1.2 Document Splitting"
   ]
  },
  {
   "cell_type": "markdown",
   "id": "a9b0a595-7f7d-48ec-ad26-252761b0c240",
   "metadata": {},
   "source": [
    "- As mentioned, PyPDFLoader maps each page of a PDF to a `Document` object.\n",
    "- It is preferable to split `Document` objects into smaller chunks, since LLMs process each Document as a single unit of context.\n",
    "- For example, if a `Document` object contains an entire page on the Health Insurance Policy, the LLM will consider the full page when answering a question about a specific detail. This can **reduce precision** and **increase the likelihood of hallucinations**.\n",
    "\n",
    "\n",
    "- For general-purpose use cases, `RecursiveCharacterTextSplitter` is the recommended splitter.\n",
    "- It accepts two key arguments:\n",
    "    - **chunk_size**: Maximum number of characters per chunk.\n",
    "    - **chunk_overlap**: Number of characters repeated from the end of the previous chunk at the start of the next. This helps preserve context across chunks.\n",
    "\n",
    "- The 200-character overlap occurs **between** chunks — at the end of one and the beginning of the next. For example, if your text is 3000 characters, the chunks will be:\n",
    "    - Chunk 1: Characters 0–999  \n",
    "    - Chunk 2: Characters 800–1799  \n",
    "    - Chunk 3: Characters 1600–2599  \n",
    "    - Chunk 4: Characters 2400–2999\n",
    "\n",
    "- The splitter uses natural boundaries, such as line breaks or punctuation, to avoid cutting text in unnatural places."
   ]
  },
  {
   "cell_type": "code",
   "execution_count": 18,
   "id": "173947a8-7e51-4cfd-b41d-14e5c914a07b",
   "metadata": {},
   "outputs": [
    {
     "data": {
      "text/plain": [
       "516"
      ]
     },
     "execution_count": 18,
     "metadata": {},
     "output_type": "execute_result"
    }
   ],
   "source": [
    "from langchain_text_splitters import RecursiveCharacterTextSplitter\n",
    "\n",
    "text_splitter = RecursiveCharacterTextSplitter(\n",
    "    chunk_size=1000, chunk_overlap=200, add_start_index=True\n",
    ")\n",
    "all_splits = text_splitter.split_documents(docs)\n",
    "\n",
    "len(all_splits)"
   ]
  },
  {
   "cell_type": "code",
   "execution_count": 16,
   "id": "2184217c-9b94-4790-9929-0c0e61cc64bf",
   "metadata": {},
   "outputs": [
    {
     "data": {
      "text/plain": [
       "[{'id': None,\n",
       "  'metadata': {'producer': 'EDGRpdf Service w/ EO.Pdf 22.0.40.0',\n",
       "   'creator': 'EDGAR Filing HTML Converter',\n",
       "   'creationdate': '2023-07-20T16:22:00-04:00',\n",
       "   'title': '0000320187-23-000039',\n",
       "   'author': 'EDGAR Online, a division of Donnelley Financial Solutions',\n",
       "   'subject': 'Form 10-K filed on 2023-07-20 for the period ending 2023-05-31',\n",
       "   'keywords': '0000320187-23-000039; ; 10-K',\n",
       "   'moddate': '2023-07-20T16:22:08-04:00',\n",
       "   'source': './example_data/nke-10k-2023.pdf',\n",
       "   'total_pages': 107,\n",
       "   'page': 0,\n",
       "   'page_label': '1',\n",
       "   'start_index': 0},\n",
       "  'page_content': \"Table of Contents\\nUNITED STATES\\nSECURITIES AND EXCHANGE COMMISSION\\nWashington, D.C. 20549\\nFORM 10-K\\n(Mark One)\\n☑  ANNUAL REPORT PURSUANT TO SECTION 13 OR 15(D) OF THE SECURITIES EXCHANGE ACT OF 1934\\nFOR THE FISCAL YEAR ENDED MAY 31, 2023\\nOR\\n☐  TRANSITION REPORT PURSUANT TO SECTION 13 OR 15(D) OF THE SECURITIES EXCHANGE ACT OF 1934\\nFOR THE TRANSITION PERIOD FROM                         TO                         .\\nCommission File No. 1-10635\\nNIKE, Inc.\\n(Exact name of Registrant as specified in its charter)\\nOregon 93-0584541\\n(State or other jurisdiction of incorporation) (IRS Employer Identification No.)\\nOne Bowerman Drive, Beaverton, Oregon 97005-6453\\n(Address of principal executive offices and zip code)\\n(503) 671-6453\\n(Registrant's telephone number, including area code)\\nSECURITIES REGISTERED PURSUANT TO SECTION 12(B) OF THE ACT:\\nClass B Common Stock NKE New York Stock Exchange\\n(Title of each class) (Trading symbol) (Name of each exchange on which registered)\",\n",
       "  'type': 'Document'},\n",
       " {'id': None,\n",
       "  'metadata': {'producer': 'EDGRpdf Service w/ EO.Pdf 22.0.40.0',\n",
       "   'creator': 'EDGAR Filing HTML Converter',\n",
       "   'creationdate': '2023-07-20T16:22:00-04:00',\n",
       "   'title': '0000320187-23-000039',\n",
       "   'author': 'EDGAR Online, a division of Donnelley Financial Solutions',\n",
       "   'subject': 'Form 10-K filed on 2023-07-20 for the period ending 2023-05-31',\n",
       "   'keywords': '0000320187-23-000039; ; 10-K',\n",
       "   'moddate': '2023-07-20T16:22:08-04:00',\n",
       "   'source': './example_data/nke-10k-2023.pdf',\n",
       "   'total_pages': 107,\n",
       "   'page': 0,\n",
       "   'page_label': '1',\n",
       "   'start_index': 781},\n",
       "  'page_content': 'SECURITIES REGISTERED PURSUANT TO SECTION 12(B) OF THE ACT:\\nClass B Common Stock NKE New York Stock Exchange\\n(Title of each class) (Trading symbol) (Name of each exchange on which registered)\\nSECURITIES REGISTERED PURSUANT TO SECTION 12(G) OF THE ACT:\\nNONE\\nIndicate by check mark: YES NO\\n• if the registrant is a well-known seasoned issuer, as defined in Rule 405 of the Securities Act. þ ¨ \\n• if the registrant is not required to file reports pursuant to Section 13 or Section 15(d) of the Act. ¨ þ \\n• whether the registrant (1) has filed all reports required to be filed by Section 13 or 15(d) of the Securities Exchange Act of 1934 during the preceding\\n12 months (or for such shorter period that the registrant was required to file such reports), and (2) has been subject to such filing requirements for the\\npast 90 days.\\nþ ¨ \\n• whether the registrant has submitted electronically every Interactive Data File required to be submitted pursuant to Rule 405 of Regulation S-T',\n",
       "  'type': 'Document'},\n",
       " {'id': None,\n",
       "  'metadata': {'producer': 'EDGRpdf Service w/ EO.Pdf 22.0.40.0',\n",
       "   'creator': 'EDGAR Filing HTML Converter',\n",
       "   'creationdate': '2023-07-20T16:22:00-04:00',\n",
       "   'title': '0000320187-23-000039',\n",
       "   'author': 'EDGAR Online, a division of Donnelley Financial Solutions',\n",
       "   'subject': 'Form 10-K filed on 2023-07-20 for the period ending 2023-05-31',\n",
       "   'keywords': '0000320187-23-000039; ; 10-K',\n",
       "   'moddate': '2023-07-20T16:22:08-04:00',\n",
       "   'source': './example_data/nke-10k-2023.pdf',\n",
       "   'total_pages': 107,\n",
       "   'page': 0,\n",
       "   'page_label': '1',\n",
       "   'start_index': 1592},\n",
       "  'page_content': 'past 90 days.\\nþ ¨ \\n• whether the registrant has submitted electronically every Interactive Data File required to be submitted pursuant to Rule 405 of Regulation S-T\\n(§232.405 of this chapter) during the preceding 12 months (or for such shorter period that the registrant was required to submit such files).\\nþ ¨ \\n• whether the registrant is a large accelerated filer, an accelerated filer, a non-accelerated filer, a smaller reporting company or an emerging growth company. See the definitions of “large accelerated filer,”\\n“accelerated filer,” “smaller reporting company,” and “emerging growth company” in Rule 12b-2 of the Exchange Act.\\nLarge accelerated filer þ Accelerated filer ☐ Non-accelerated filer ☐ Smaller reporting company ☐ Emerging growth company ☐ \\n• if an emerging growth company, if the registrant has elected not to use the extended transition period for complying with any new or revised financial\\naccounting standards provided pursuant to Section 13(a) of the Exchange Act.\\n¨',\n",
       "  'type': 'Document'}]"
      ]
     },
     "execution_count": 16,
     "metadata": {},
     "output_type": "execute_result"
    }
   ],
   "source": [
    "[i.__dict__ for i in all_splits[0:3]]"
   ]
  },
  {
   "cell_type": "markdown",
   "id": "6765c3bb-394a-4663-94fc-fda6b8e60a5a",
   "metadata": {},
   "source": [
    "## 2. Embeddings"
   ]
  },
  {
   "cell_type": "markdown",
   "id": "3f3113c1-816b-451a-a507-7e3d8e296cb1",
   "metadata": {},
   "source": [
    "- Imagine being able to capture the essence of any text - a tweet, document, or book - in a single, compact representation. This is the power of embedding models\n",
    "- Embedding models transform human language into a format that machines can understand and compare with speed and accuracy.\n",
    "- These models take text as input and produce a fixed-length array of numbers, a numerical fingerprint of the text's semantic meaning.\n",
    "- Embeddings allow search system to find relevant documents not just based on keyword matches, but on semantic understanding.\n",
    "\n",
    "![](./docs/embeddings_concept.png)\n",
    "\n",
    "1. Embed text as a vector: Embeddings transform text into a numerical vector representation.\n",
    "1. Measure similarity: Embedding vectors can be compared using simple mathematical operations."
   ]
  },
  {
   "cell_type": "markdown",
   "id": "d9013699-8762-4bca-a5c1-1839cff6f359",
   "metadata": {},
   "source": [
    "- Each embedding is essentially a set of coordinates, often in a high-dimensional space.\n",
    "- In this space, the position of each point (embedding) reflects the meaning of its corresponding text.\n",
    "- Just as similar words might be close to each other in a thesaurus, similar concepts end up close to each other in this embedding space.\n",
    "- This allows for intuitive comparisons between different pieces of text. By reducing text to these numerical representations, we can use simple mathematical operations to quickly measure how alike two pieces of text are, regardless of their original length or structure"
   ]
  },
  {
   "cell_type": "markdown",
   "id": "9b534ec9-14fd-4e19-bdda-1f5abee51dd5",
   "metadata": {},
   "source": [
    "LangChain provides a universal interface for working with embeddings, providing standard methods for common operations. This common interface simplifies interaction with various embedding providers through two central methods:\n",
    "\n",
    "    embed_documents: For embedding multiple texts (documents)\n",
    "    embed_query: For embedding a single text (query)\n",
    "\n",
    "This distinction is important, as some providers employ different embedding strategies for documents (which are to be searched) versus queries (the search input itself). "
   ]
  },
  {
   "cell_type": "code",
   "execution_count": 23,
   "id": "91e824ea-1e8a-4b3b-892d-c0187ea6a650",
   "metadata": {},
   "outputs": [
    {
     "name": "stdout",
     "output_type": "stream",
     "text": [
      "Generated vectors of length 3072\n",
      "\n",
      "[0.009286928921937943, -0.015886522829532623, 0.0003275189083069563, 0.00636835815384984, 0.020573733374476433, -0.03912259265780449, -0.007468290627002716, 0.040972478687763214, -0.007899514399468899, 0.05984631925821304]\n"
     ]
    }
   ],
   "source": [
    "from langchain_openai import OpenAIEmbeddings\n",
    "\n",
    "embeddings = OpenAIEmbeddings(model=\"text-embedding-3-large\")\n",
    "vector_1 = embeddings.embed_query(all_splits[0].page_content)\n",
    "vector_2 = embeddings.embed_query(all_splits[1].page_content)\n",
    "\n",
    "assert len(vector_1) == len(vector_2) # An embedding is a fixed-length array\n",
    "print(f\"Generated vectors of length {len(vector_1)}\\n\")\n",
    "print(vector_1[:10])"
   ]
  },
  {
   "cell_type": "markdown",
   "id": "93138054-f6fa-455e-a0a1-6e2b031a2508",
   "metadata": {},
   "source": [
    "## Vector Stores"
   ]
  },
  {
   "cell_type": "markdown",
   "id": "0f94df97-5127-4eb0-89ff-efa33d2ffa5b",
   "metadata": {},
   "source": [
    "- A vector store is a specialised database for storing and querying embeddings. It supports standard operations like create, read, update, and delete (CRUD).\n",
    "- For retrieval, it allows searching for semantically similar text by comparing embedding vectors using similarity metrics such as cosine similarity.\n",
    "\n",
    "- VectorStore includes methods for querying:\n",
    "    - Synchronously and asynchronously;\n",
    "    - By string query and by vector;\n",
    "    - With and without returning similarity scores;\n",
    "    - By similarity and maximum marginal relevance (to balance similarity with query to diversity in retrieved results).\n",
    "\n",
    "- The methods will generally include a list of Document objects in their outputs."
   ]
  },
  {
   "cell_type": "code",
   "execution_count": 37,
   "id": "ae969720-2c90-4bc7-bf9c-ff1696d62d90",
   "metadata": {
    "scrolled": true
   },
   "outputs": [
    {
     "data": {
      "text/plain": [
       "['20cd1580-0d1d-44dd-8522-0fefe27ae2da',\n",
       " 'd61b82b9-63c1-4386-bade-83b4cbae20f8',\n",
       " 'b2ea1b41-5c92-4569-90df-5fc0fd543414']"
      ]
     },
     "execution_count": 37,
     "metadata": {},
     "output_type": "execute_result"
    }
   ],
   "source": [
    "from langchain_core.vectorstores import InMemoryVectorStore\n",
    "\n",
    "vector_store = InMemoryVectorStore(embeddings)\n",
    "ids = vector_store.add_documents(documents=all_splits)\n",
    "ids[:3]"
   ]
  },
  {
   "cell_type": "markdown",
   "id": "2378bfa2-65ac-4a32-933f-5a37f39e5fa7",
   "metadata": {},
   "source": [
    "- As mentioned earlier, Embeddings typically represent text as a \"dense\" vector such that texts with similar meanings are geometrically close.\n",
    "- This lets us retrieve relevant information just by passing in a question, without knowledge of any specific key-terms used in the document."
   ]
  },
  {
   "cell_type": "code",
   "execution_count": 30,
   "id": "09655ba7-05bb-404e-bf25-2c7d5efd75d4",
   "metadata": {},
   "outputs": [
    {
     "name": "stdout",
     "output_type": "stream",
     "text": [
      "page_content='operations. We also lease an office complex in Shanghai, China, our headquarters for our Greater China geography, occupied by employees focused on implementing our\n",
      "wholesale, NIKE Direct and merchandising strategies in the region, among other functions.\n",
      "In the United States, NIKE has eight significant distribution centers. Five are located in or near Memphis, Tennessee, two of which are owned and three of which are\n",
      "leased. Two other distribution centers, one located in Indianapolis, Indiana and one located in Dayton, Tennessee, are leased and operated by third-party logistics\n",
      "providers. One distribution center for Converse is located in Ontario, California, which is leased. NIKE has a number of distribution facilities outside the United States,\n",
      "some of which are leased and operated by third-party logistics providers. The most significant distribution facilities outside the United States are located in Laakdal,' metadata={'producer': 'EDGRpdf Service w/ EO.Pdf 22.0.40.0', 'creator': 'EDGAR Filing HTML Converter', 'creationdate': '2023-07-20T16:22:00-04:00', 'title': '0000320187-23-000039', 'author': 'EDGAR Online, a division of Donnelley Financial Solutions', 'subject': 'Form 10-K filed on 2023-07-20 for the period ending 2023-05-31', 'keywords': '0000320187-23-000039; ; 10-K', 'moddate': '2023-07-20T16:22:08-04:00', 'source': './example_data/nke-10k-2023.pdf', 'total_pages': 107, 'page': 26, 'page_label': '27', 'start_index': 804}\n"
     ]
    }
   ],
   "source": [
    "# Return documents based on similarity to an embedded query:\n",
    "results = vector_store.similarity_search(\n",
    "    \"How many distribution centers does Nike have in the US?\"\n",
    ")\n",
    "\n",
    "## Returns Document object whose semantic meaning closest to the query\n",
    "print(results[0])"
   ]
  },
  {
   "cell_type": "code",
   "execution_count": 31,
   "id": "a3bf4c41-b46b-47bb-b104-14f2b2574164",
   "metadata": {},
   "outputs": [
    {
     "name": "stdout",
     "output_type": "stream",
     "text": [
      "Score: 0.6882491406406019\n",
      "\n",
      "page_content='Table of Contents\n",
      "FISCAL 2023 NIKE BRAND REVENUE HIGHLIGHTSThe following tables present NIKE Brand revenues disaggregated by reportable operating segment, distribution channel and major product line:\n",
      "FISCAL 2023 COMPARED TO FISCAL 2022\n",
      "• NIKE, Inc. Revenues were $51.2 billion in fiscal 2023, which increased 10% and 16% compared to fiscal 2022 on a reported and currency-neutral basis, respectively.\n",
      "The increase was due to higher revenues in North America, Europe, Middle East & Africa (\"EMEA\"), APLA and Greater China, which contributed approximately 7, 6,\n",
      "2 and 1 percentage points to NIKE, Inc. Revenues, respectively.\n",
      "• NIKE Brand revenues, which represented over 90% of NIKE, Inc. Revenues, increased 10% and 16% on a reported and currency-neutral basis, respectively. This\n",
      "increase was primarily due to higher revenues in Men's, the Jordan Brand, Women's and Kids' which grew 17%, 35%,11% and 10%, respectively, on a wholesale\n",
      "equivalent basis.' metadata={'producer': 'EDGRpdf Service w/ EO.Pdf 22.0.40.0', 'creator': 'EDGAR Filing HTML Converter', 'creationdate': '2023-07-20T16:22:00-04:00', 'title': '0000320187-23-000039', 'author': 'EDGAR Online, a division of Donnelley Financial Solutions', 'subject': 'Form 10-K filed on 2023-07-20 for the period ending 2023-05-31', 'keywords': '0000320187-23-000039; ; 10-K', 'moddate': '2023-07-20T16:22:08-04:00', 'source': './example_data/nke-10k-2023.pdf', 'total_pages': 107, 'page': 35, 'page_label': '36', 'start_index': 0}\n"
     ]
    }
   ],
   "source": [
    "# Note that providers implement different scores; the score here is a distance metric that varies inversely with similarity.\n",
    "\n",
    "results = vector_store.similarity_search_with_score(\"What was Nike's revenue in 2023?\")\n",
    "doc, score = results[0]\n",
    "print(f\"Score: {score}\\n\")\n",
    "print(doc)"
   ]
  },
  {
   "cell_type": "code",
   "execution_count": 33,
   "id": "0b3b4b14-2f19-4f48-b587-a05d7d7bda04",
   "metadata": {},
   "outputs": [
    {
     "name": "stdout",
     "output_type": "stream",
     "text": [
      "page_content='Table of Contents\n",
      "GROSS MARGIN\n",
      "FISCAL 2023 COMPARED TO FISCAL 2022\n",
      "For fiscal 2023, our consolidated gross profit increased 4% to $22,292 million compared to $21,479 million for fiscal 2022. Gross margin decreased 250 basis points to\n",
      "43.5% for fiscal 2023 compared to 46.0% for fiscal 2022 due to the following:\n",
      "*Wholesale equivalent\n",
      "The decrease in gross margin for fiscal 2023 was primarily due to:\n",
      "• Higher NIKE Brand product costs, on a wholesale equivalent basis, primarily due to higher input costs and elevated inbound freight and logistics costs as well as\n",
      "product mix;\n",
      "• Lower margin in our NIKE Direct business, driven by higher promotional activity to liquidate inventory in the current period compared to lower promotional activity in\n",
      "the prior period resulting from lower available inventory supply;\n",
      "• Unfavorable changes in net foreign currency exchange rates, including hedges; and\n",
      "• Lower off-price margin, on a wholesale equivalent basis.\n",
      "This was partially offset by:' metadata={'producer': 'EDGRpdf Service w/ EO.Pdf 22.0.40.0', 'creator': 'EDGAR Filing HTML Converter', 'creationdate': '2023-07-20T16:22:00-04:00', 'title': '0000320187-23-000039', 'author': 'EDGAR Online, a division of Donnelley Financial Solutions', 'subject': 'Form 10-K filed on 2023-07-20 for the period ending 2023-05-31', 'keywords': '0000320187-23-000039; ; 10-K', 'moddate': '2023-07-20T16:22:08-04:00', 'source': './example_data/nke-10k-2023.pdf', 'total_pages': 107, 'page': 36, 'page_label': '37', 'start_index': 0}\n"
     ]
    }
   ],
   "source": [
    "# Return documents based on similarity to an embedded query:\n",
    "embedding = embeddings.embed_query(\"How were Nike's margins impacted in 2023?\")\n",
    "\n",
    "results = vector_store.similarity_search_by_vector(embedding)\n",
    "print(results[0])"
   ]
  },
  {
   "cell_type": "markdown",
   "id": "45d4e171-bb0a-40d4-bde3-10b366efc826",
   "metadata": {},
   "source": [
    "## Retrievers"
   ]
  },
  {
   "cell_type": "markdown",
   "id": "c733de08-613e-45cf-940b-af95abc6fc99",
   "metadata": {},
   "source": [
    "- LangChain `VectorStore` objects are not `Runnable` instances so they do not support standard `Runnable` methods like `.invoke()` or batch operations.\n",
    "- `Retriever` objects are `Runnable`s and implement these standard methods.\n",
    "- `Retriever`s can be built on top of vector stores to provide a unified interface.\n",
    "- `Retriever`s can also interface with other data sources like external APIs, not just vector stores.\n",
    "- This approach allows flexible integration of custom retrieval logic into LangChain pipelines."
   ]
  },
  {
   "cell_type": "markdown",
   "id": "af078dca-f00e-4601-80d1-52a956401d76",
   "metadata": {},
   "source": [
    "- You don’t need to subclass Retriever to create one.\n",
    "- You can manually create a retriever by defining a document retrieval method (e.g., similarity_search) and wrapping it in a runnable.\n"
   ]
  },
  {
   "cell_type": "code",
   "execution_count": 35,
   "id": "a0c28b05-107c-4839-b051-a00c36a835c4",
   "metadata": {},
   "outputs": [
    {
     "data": {
      "text/plain": [
       "[[Document(id='8b515aef-8099-46bc-a276-f29a119ecd88', metadata={'producer': 'EDGRpdf Service w/ EO.Pdf 22.0.40.0', 'creator': 'EDGAR Filing HTML Converter', 'creationdate': '2023-07-20T16:22:00-04:00', 'title': '0000320187-23-000039', 'author': 'EDGAR Online, a division of Donnelley Financial Solutions', 'subject': 'Form 10-K filed on 2023-07-20 for the period ending 2023-05-31', 'keywords': '0000320187-23-000039; ; 10-K', 'moddate': '2023-07-20T16:22:08-04:00', 'source': './example_data/nke-10k-2023.pdf', 'total_pages': 107, 'page': 26, 'page_label': '27', 'start_index': 804}, page_content='operations. We also lease an office complex in Shanghai, China, our headquarters for our Greater China geography, occupied by employees focused on implementing our\\nwholesale, NIKE Direct and merchandising strategies in the region, among other functions.\\nIn the United States, NIKE has eight significant distribution centers. Five are located in or near Memphis, Tennessee, two of which are owned and three of which are\\nleased. Two other distribution centers, one located in Indianapolis, Indiana and one located in Dayton, Tennessee, are leased and operated by third-party logistics\\nproviders. One distribution center for Converse is located in Ontario, California, which is leased. NIKE has a number of distribution facilities outside the United States,\\nsome of which are leased and operated by third-party logistics providers. The most significant distribution facilities outside the United States are located in Laakdal,')],\n",
       " [Document(id='067bbf54-72b2-4f1e-bf5a-a7ca1bfab919', metadata={'producer': 'EDGRpdf Service w/ EO.Pdf 22.0.40.0', 'creator': 'EDGAR Filing HTML Converter', 'creationdate': '2023-07-20T16:22:00-04:00', 'title': '0000320187-23-000039', 'author': 'EDGAR Online, a division of Donnelley Financial Solutions', 'subject': 'Form 10-K filed on 2023-07-20 for the period ending 2023-05-31', 'keywords': '0000320187-23-000039; ; 10-K', 'moddate': '2023-07-20T16:22:08-04:00', 'source': './example_data/nke-10k-2023.pdf', 'total_pages': 107, 'page': 3, 'page_label': '4', 'start_index': 0}, page_content='Table of Contents\\nPART I\\nITEM 1. BUSINESS\\nGENERAL\\nNIKE, Inc. was incorporated in 1967 under the laws of the State of Oregon. As used in this Annual Report on Form 10-K (this \"Annual Report\"), the terms \"we,\" \"us,\" \"our,\"\\n\"NIKE\" and the \"Company\" refer to NIKE, Inc. and its predecessors, subsidiaries and affiliates, collectively, unless the context indicates otherwise.\\nOur principal business activity is the design, development and worldwide marketing and selling of athletic footwear, apparel, equipment, accessories and services. NIKE is\\nthe largest seller of athletic footwear and apparel in the world. We sell our products through NIKE Direct operations, which are comprised of both NIKE-owned retail stores\\nand sales through our digital platforms (also referred to as \"NIKE Brand Digital\"), to retail accounts and to a mix of independent distributors, licensees and sales')]]"
      ]
     },
     "execution_count": 35,
     "metadata": {},
     "output_type": "execute_result"
    }
   ],
   "source": [
    "from typing import List\n",
    "\n",
    "from langchain_core.documents import Document\n",
    "from langchain_core.runnables import chain\n",
    "\n",
    "\n",
    "@chain\n",
    "def retriever(query: str) -> List[Document]:\n",
    "    return vector_store.similarity_search(query, k=1)\n",
    "\n",
    "\n",
    "retriever.batch(\n",
    "    [\n",
    "        \"How many distribution centers does Nike have in the US?\",\n",
    "        \"When was Nike incorporated?\",\n",
    "    ],\n",
    ")"
   ]
  },
  {
   "cell_type": "markdown",
   "id": "7a044502-a473-4bb0-9a90-ac94cd765672",
   "metadata": {},
   "source": [
    "Vectorstores implement an as_retriever method that will generate a Retriever, specifically a VectorStoreRetriever. These retrievers include specific search_type and search_kwargs attributes that identify what methods of the underlying vector store to call, and how to parameterize them. For instance, we can replicate the above with the following:\n"
   ]
  },
  {
   "cell_type": "code",
   "execution_count": 36,
   "id": "79d4168c-e036-4c68-9544-0345b3d60e78",
   "metadata": {},
   "outputs": [
    {
     "data": {
      "text/plain": [
       "[[Document(id='8b515aef-8099-46bc-a276-f29a119ecd88', metadata={'producer': 'EDGRpdf Service w/ EO.Pdf 22.0.40.0', 'creator': 'EDGAR Filing HTML Converter', 'creationdate': '2023-07-20T16:22:00-04:00', 'title': '0000320187-23-000039', 'author': 'EDGAR Online, a division of Donnelley Financial Solutions', 'subject': 'Form 10-K filed on 2023-07-20 for the period ending 2023-05-31', 'keywords': '0000320187-23-000039; ; 10-K', 'moddate': '2023-07-20T16:22:08-04:00', 'source': './example_data/nke-10k-2023.pdf', 'total_pages': 107, 'page': 26, 'page_label': '27', 'start_index': 804}, page_content='operations. We also lease an office complex in Shanghai, China, our headquarters for our Greater China geography, occupied by employees focused on implementing our\\nwholesale, NIKE Direct and merchandising strategies in the region, among other functions.\\nIn the United States, NIKE has eight significant distribution centers. Five are located in or near Memphis, Tennessee, two of which are owned and three of which are\\nleased. Two other distribution centers, one located in Indianapolis, Indiana and one located in Dayton, Tennessee, are leased and operated by third-party logistics\\nproviders. One distribution center for Converse is located in Ontario, California, which is leased. NIKE has a number of distribution facilities outside the United States,\\nsome of which are leased and operated by third-party logistics providers. The most significant distribution facilities outside the United States are located in Laakdal,')],\n",
       " [Document(id='067bbf54-72b2-4f1e-bf5a-a7ca1bfab919', metadata={'producer': 'EDGRpdf Service w/ EO.Pdf 22.0.40.0', 'creator': 'EDGAR Filing HTML Converter', 'creationdate': '2023-07-20T16:22:00-04:00', 'title': '0000320187-23-000039', 'author': 'EDGAR Online, a division of Donnelley Financial Solutions', 'subject': 'Form 10-K filed on 2023-07-20 for the period ending 2023-05-31', 'keywords': '0000320187-23-000039; ; 10-K', 'moddate': '2023-07-20T16:22:08-04:00', 'source': './example_data/nke-10k-2023.pdf', 'total_pages': 107, 'page': 3, 'page_label': '4', 'start_index': 0}, page_content='Table of Contents\\nPART I\\nITEM 1. BUSINESS\\nGENERAL\\nNIKE, Inc. was incorporated in 1967 under the laws of the State of Oregon. As used in this Annual Report on Form 10-K (this \"Annual Report\"), the terms \"we,\" \"us,\" \"our,\"\\n\"NIKE\" and the \"Company\" refer to NIKE, Inc. and its predecessors, subsidiaries and affiliates, collectively, unless the context indicates otherwise.\\nOur principal business activity is the design, development and worldwide marketing and selling of athletic footwear, apparel, equipment, accessories and services. NIKE is\\nthe largest seller of athletic footwear and apparel in the world. We sell our products through NIKE Direct operations, which are comprised of both NIKE-owned retail stores\\nand sales through our digital platforms (also referred to as \"NIKE Brand Digital\"), to retail accounts and to a mix of independent distributors, licensees and sales')]]"
      ]
     },
     "execution_count": 36,
     "metadata": {},
     "output_type": "execute_result"
    }
   ],
   "source": [
    "retriever = vector_store.as_retriever(\n",
    "    search_type=\"similarity\",\n",
    "    search_kwargs={\"k\": 1},\n",
    ")\n",
    "\n",
    "retriever.batch(\n",
    "    [\n",
    "        \"How many distribution centers does Nike have in the US?\",\n",
    "        \"When was Nike incorporated?\",\n",
    "    ],\n",
    ")"
   ]
  },
  {
   "cell_type": "markdown",
   "id": "3091cd1f-714c-4854-8f65-820d4c052ccb",
   "metadata": {},
   "source": [
    "VectorStoreRetriever supports search types of \"similarity\" (default), \"mmr\" (maximum marginal relevance, described above), and \"similarity_score_threshold\". We can use the latter to threshold documents output by the retriever by similarity score."
   ]
  }
 ],
 "metadata": {
  "kernelspec": {
   "display_name": "Python 3 (ipykernel)",
   "language": "python",
   "name": "python3"
  },
  "language_info": {
   "codemirror_mode": {
    "name": "ipython",
    "version": 3
   },
   "file_extension": ".py",
   "mimetype": "text/x-python",
   "name": "python",
   "nbconvert_exporter": "python",
   "pygments_lexer": "ipython3",
   "version": "3.13.5"
  }
 },
 "nbformat": 4,
 "nbformat_minor": 5
}
