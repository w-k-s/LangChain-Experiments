{
 "cells": [
  {
   "cell_type": "markdown",
   "id": "8beefeb5-0b6a-43dc-829e-7766fe57b48f",
   "metadata": {},
   "source": [
    "# Summarizing Large Texts\n",
    "\n",
    "## 1. Introductions\n",
    "\n",
    "- LLMs are a great tool for generating summaries from large volume of texts.\n",
    "- LLMs can use summarization to:\n",
    "    1. **summarize large content sets**: Summarise information from multiple sources such as PDFs, Notion pages, or customer queries into concise, meaningful representations\n",
    "    2. **Enhance retrieval-augmented generation (RAG)**: Use summarisation to distil the content of retrieved documents, ensuring the LLM receives only the most relevant context.\n",
    "\n",
    "In this walkthrough we'll go over how to summarize content from multiple documents using LLMs.\n",
    "\n",
    "### 1.1 Approaches\n",
    "\n",
    "There are three building a summarizer: \n",
    "\n",
    "1. **Stuffing the prompt** If the document fits in to the context window, we can just include the document in the prompt. This is the simplest approach. This is implemented using `create_stuff_documents_chain`\n",
    "\n",
    "2. **Map Reduce**: If the document(s) do not fit in to the context window, we **map each document into a summary** and then **reduce the summaries of each document into one final summary**. The mapping step is typically done in parallel. This is implemented usinf the [`MapReduceDocumentsChain`](https://python.langchain.com/api_reference/langchain/chains/langchain.chains.combine_documents.map_reduce.MapReduceDocumentsChain.html)\n",
    "\n",
    "3. **Iterative Refinement**: Iterative Refinement builds on Map-Reduce. Map-Reduce is effective when the documents do not have a sequential nature. In other cases, such as summarizing a novel or body of text with an inherent sequence, [iterative refinement](https://python.langchain.com/docs/how_to/summarize_refine/) may be more effective.\n",
    "\n",
    "![./docs/summarization.png](./docs/summarization.png)\n"
   ]
  },
  {
   "cell_type": "markdown",
   "id": "e223dd20-91d6-4bfb-b6c1-f7d85ca7cecb",
   "metadata": {},
   "source": [
    "## Setup"
   ]
  },
  {
   "cell_type": "code",
   "execution_count": 5,
   "id": "d7e1ff87-51c1-47b9-95c3-c30521bf53f4",
   "metadata": {},
   "outputs": [],
   "source": [
    "%%capture --no-stderr\n",
    "%pip install --upgrade --quiet langchain langchain_classic langchain-community=0.3.7 langgraph \"langchain[openai]\"\n",
    "\n",
    "import os\n",
    "\n",
    "try:\n",
    "    # load environment variables from .env file (requires `python-dotenv`)\n",
    "    from dotenv import load_dotenv\n",
    "\n",
    "    load_dotenv()\n",
    "except ImportError:\n",
    "    pass\n",
    "\n",
    "assert os.environ[\"LANGSMITH_TRACING\"] is not None\n",
    "assert os.environ[\"LANGSMITH_API_KEY\"] is not None\n",
    "assert os.environ[\"LANGSMITH_PROJECT\"] is not None\n",
    "assert os.environ[\"OPENAI_API_KEY\"] is not None"
   ]
  },
  {
   "cell_type": "code",
   "execution_count": 6,
   "id": "26e7fa8a-92d3-4feb-84a1-8cca24b770e7",
   "metadata": {},
   "outputs": [
    {
     "name": "stdout",
     "output_type": "stream",
     "text": [
      "1.0.1\n"
     ]
    }
   ],
   "source": [
    "\n",
    "from langchain.chat_models import init_chat_model\n",
    "from langchain_community.document_loaders import WebBaseLoader\n",
    "\n",
    "llm = init_chat_model(\"gpt-4o-mini\", model_provider=\"openai\")\n",
    "\n",
    "# we load in our documents. We will use WebBaseLoader to load a blog post:\n",
    "loader = WebBaseLoader(\"https://lilianweng.github.io/posts/2023-06-23-agent/\")\n",
    "docs = loader.load()\n",
    "\n",
    "import langchain_core\n",
    "print(langchain_core.__version__)"
   ]
  },
  {
   "cell_type": "markdown",
   "id": "7df63ef5-d797-4598-995b-cafea978d4ac",
   "metadata": {},
   "source": [
    "## 2. Stuffing the prompt\n",
    "\n",
    "As mentioned earlier, We can use [`create_stuff_documents_chain`](https://python.langchain.com/api_reference/langchain/chains/langchain.chains.combine_documents.stuff.create_stuff_documents_chain.html), especially if using larger context window models such as:\n",
    "\n",
    "- 128k token OpenAI gpt-4o\n",
    "- 200k token Anthropic claude-3-5-sonnet-latest\n",
    "\n",
    "The chain will take a list of documents, insert them all into a prompt, and pass that prompt to an LLM:"
   ]
  },
  {
   "cell_type": "code",
   "execution_count": 7,
   "id": "e25e0f17-4994-4c82-995c-b88652e85064",
   "metadata": {},
   "outputs": [
    {
     "name": "stdout",
     "output_type": "stream",
     "text": [
      "The article \"LLM Powered Autonomous Agents\" by Lilian Weng delves into the development of autonomous agents utilizing Large Language Models (LLMs) as their core processors, showcasing their potential beyond generating text to solving complex problems. It breaks down the architecture of LLM-powered agents into three components: \n",
      "\n",
      "1. **Planning**: This involves task decomposition, where complex tasks are broken down into subgoals, and self-reflection, allowing agents to learn and refine their actions based on past experiences. Techniques like Chain of Thought (CoT) and Tree of Thoughts enhance problem-solving capabilities.\n",
      "\n",
      "2. **Memory**: This section discusses the categorization of memory into sensory, short-term, and long-term types, with techniques for maximizing information retrieval through Maximum Inner Product Search (MIPS) and external vector stores.\n",
      "\n",
      "3. **Tool Use**: LLMs can access external tools to extend their capabilities, exemplified by architectures like MRKL (Modular Reasoning, Knowledge, and Language) and projects such as HuggingGPT and ChemCrow, which utilize a range of APIs for complex tasks and scientific discovery.\n",
      "\n",
      "Despite these advancements, the article addresses several challenges such as limitations in context length, the reliability of natural language interfaces, and difficulties in long-term planning. The piece concludes with a range of reference materials and notable projects in the field, illustrating the ongoing evolution of LLM-powered agents and their applications.\n"
     ]
    }
   ],
   "source": [
    "from langchain_classic.chains.combine_documents import create_stuff_documents_chain\n",
    "from langchain_core.prompts import ChatPromptTemplate\n",
    "\n",
    "# 1. Define prompt\n",
    "prompt = ChatPromptTemplate.from_messages(\n",
    "    [(\"system\", \"Write a concise summary of the following:\\\\n\\\\n{context}\")]\n",
    ")\n",
    "\n",
    "# 2. Instantiate chain\n",
    "chain = create_stuff_documents_chain(llm, prompt)\n",
    "\n",
    "\n",
    "# 3. Invoke chain\n",
    "result = chain.invoke({\"context\": docs})\n",
    "print(result)"
   ]
  },
  {
   "cell_type": "code",
   "execution_count": 8,
   "id": "a8d4bb9e-0e8b-4369-b13e-f762f58815ff",
   "metadata": {},
   "outputs": [
    {
     "name": "stdout",
     "output_type": "stream",
     "text": [
      "|The| article| \"|LL|M| Powered| Autonomous| Agents|\"| by| Lil|ian| W|eng| discusses| the| concept| and| architecture| behind| autonomous| agents| powered| by| large| language| models| (|LL|Ms|).| It| outlines| three| main| components| crucial| to| these| systems|:| \n",
      "\n",
      "|1|.| **|Planning|**|:| Agents| employ| task| decomposition| strategies|,| such| as| Chain| of| Thought| prompting| to| break| down| complex| tasks| and| self|-ref|lect| on| their| actions| to| iter|atively| improve| outcomes|.\n",
      "\n",
      "|2|.| **|Memory|**|:| The| system| utilizes| various| types| of| memory|,| including| short|-term| (|in|-context| learning|)| and| long|-term| memory| (|via| external| databases| for| retrieval|),| enhancing| the| agent|'s| ability| to| retain| and| recall| information| over| time|.| Techniques| like| Maximum| Inner| Product| Search| (|M|IPS|)| are| employed| for| efficient| information| retrieval|.\n",
      "\n",
      "|3|.| **|Tool| Use|**|:| The| ability| to| interact| with| external| tools| significantly| expands| agent| capabilities|.| Framework|s| such| as| MR|KL| and| Hug|ging|GPT| facilitate| the| use| of| various| API| tools| by| integrating| task| planning|,| model| selection|,| task| execution|,| and| response| generation|.\n",
      "\n",
      "|W|eng| also| discusses| challenges| faced| by| L|LM|-powered| agents|,| such| as| limited| context| length|,| difficulties| in| long|-term| planning|,| and| the| reliability| of| natural| language| processing| interfaces|.| The| article| cites| several| proof|-of|-con|cept| examples|,| including| Auto|GPT| and| Chem|Crow|,| to| illustrate| the| potential| applications| of| L|LM|-powered| agents| in| fields| like| programming| and| scientific| research|.| Finally|,| it| touches| on| ongoing| developments| and| research| in| this| rapidly| evolving| domain|.||||"
     ]
    }
   ],
   "source": [
    "for token in chain.stream({\"context\": docs}):\n",
    "    print(token, end=\"|\")"
   ]
  },
  {
   "cell_type": "markdown",
   "id": "6eb29739-d3e0-4e6e-9c38-f3620bcb8251",
   "metadata": {},
   "source": [
    "## 3. Map Reduce\n",
    "\n",
    "- For this approach, we'll first map each document to an individual summary using an LLM. Then we'll reduce or consolidate those summaries into a single global summary.\n",
    "\n",
    "- Note that the map step is typically parallelized over the input documents.\n",
    "\n",
    "![](./docs/map-reduce-chain.jpg)"
   ]
  },
  {
   "cell_type": "markdown",
   "id": "0b2bc71e-27c2-4af3-9ab6-f59a82db63a1",
   "metadata": {},
   "source": [
    "For long texts, we need a mechanism that ensures that the context to be summarized in the reduce step does not exceed a model's context window size. \n",
    "\n",
    "This is achieved through **collapsing summaries**.\n",
    "\n",
    "1. Inputs are **partitioned** based on a token limit\n",
    "2. **Summaries are generated of the partitions**. This step is repeated until the total length of the summaries is within a desired limit, allowing for the summarization of arbitrary-length text.\n"
   ]
  },
  {
   "cell_type": "code",
   "execution_count": 10,
   "id": "067973a3-c3ba-4e89-acb1-840fa9699cc9",
   "metadata": {},
   "outputs": [
    {
     "name": "stderr",
     "output_type": "stream",
     "text": [
      "Created a chunk of size 1003, which is longer than the specified 1000\n",
      "/var/folders/x1/zrl57ryx10l614s07glvwcnh0000gp/T/ipykernel_24288/3694897146.py:38: LangGraphDeprecatedSinceV10: Importing Send from langgraph.constants is deprecated. Please use 'from langgraph.types import Send' instead. Deprecated in LangGraph V1.0 to be removed in V2.0.\n",
      "  from langgraph.constants import Send\n"
     ]
    },
    {
     "name": "stdout",
     "output_type": "stream",
     "text": [
      "Generated 13 documents.\n"
     ]
    },
    {
     "data": {
      "image/png": "[encoded data removed]",
      "text/plain": [
       "<IPython.core.display.Image object>"
      ]
     },
     "execution_count": 10,
     "metadata": {},
     "output_type": "execute_result"
    }
   ],
   "source": [
    "from langchain_core.prompts import ChatPromptTemplate\n",
    "\n",
    "## 1. MAP REDUCE PROMPTS\n",
    "\n",
    "map_prompt = ChatPromptTemplate.from_messages(\n",
    "    [(\"system\", \"Write a concise summary of the following:\\\\n\\\\n{context}\")]\n",
    ")\n",
    "\n",
    "reduce_template = \"\"\"\n",
    "The following is a set of summaries:\n",
    "{docs}\n",
    "Take these and distill it into a final, consolidated summary\n",
    "of the main themes.\n",
    "\"\"\"\n",
    "\n",
    "reduce_prompt = ChatPromptTemplate([(\"human\", reduce_template)])\n",
    "\n",
    "## 2. Split Documents into chunks\n",
    "\n",
    "from langchain_text_splitters import CharacterTextSplitter\n",
    "\n",
    "text_splitter = CharacterTextSplitter.from_tiktoken_encoder(\n",
    "    chunk_size=1000, chunk_overlap=0\n",
    ")\n",
    "split_docs = text_splitter.split_documents(docs)\n",
    "print(f\"Generated {len(split_docs)} documents.\")\n",
    "\n",
    "## \n",
    "\n",
    "import operator\n",
    "from typing import Annotated, List, Literal, TypedDict\n",
    "\n",
    "from langchain_classic.chains.combine_documents.reduce import (\n",
    "    acollapse_docs,\n",
    "    split_list_of_docs,\n",
    ")\n",
    "from langchain_core.documents import Document\n",
    "from langgraph.constants import Send\n",
    "from langgraph.graph import END, START, StateGraph\n",
    "\n",
    "token_max = 1000\n",
    "\n",
    "\n",
    "def length_function(documents: List[Document]) -> int:\n",
    "    \"\"\"Get number of tokens for input contents.\"\"\"\n",
    "    return sum(llm.get_num_tokens(doc.page_content) for doc in documents)\n",
    "\n",
    "\n",
    "# This will be the overall state of the main graph.\n",
    "# It will contain the input document contents, corresponding\n",
    "# summaries, and a final summary.\n",
    "class OverallState(TypedDict):\n",
    "    # Notice here we use the operator.add\n",
    "    # This is because we want combine all the summaries we generate\n",
    "    # from individual nodes back into one list - this is essentially\n",
    "    # the \"reduce\" part\n",
    "    contents: List[str]\n",
    "    summaries: Annotated[list, operator.add]\n",
    "    collapsed_summaries: List[Document]\n",
    "    final_summary: str\n",
    "\n",
    "\n",
    "# This will be the state of the node that we will \"map\" all\n",
    "# documents to in order to generate summaries\n",
    "class SummaryState(TypedDict):\n",
    "    content: str\n",
    "\n",
    "\n",
    "# Here we generate a summary, given a document\n",
    "async def generate_summary(state: SummaryState):\n",
    "    prompt = map_prompt.invoke(state[\"content\"])\n",
    "    response = await llm.ainvoke(prompt)\n",
    "    return {\"summaries\": [response.content]}\n",
    "\n",
    "\n",
    "# Here we define the logic to map out over the documents\n",
    "# We will use this an edge in the graph\n",
    "def map_summaries(state: OverallState):\n",
    "    # We will return a list of `Send` objects\n",
    "    # Each `Send` object consists of the name of a node in the graph\n",
    "    # as well as the state to send to that node\n",
    "    return [\n",
    "        Send(\"generate_summary\", {\"content\": content}) for content in state[\"contents\"]\n",
    "    ]\n",
    "\n",
    "\n",
    "def collect_summaries(state: OverallState):\n",
    "    return {\n",
    "        \"collapsed_summaries\": [Document(summary) for summary in state[\"summaries\"]]\n",
    "    }\n",
    "\n",
    "\n",
    "async def _reduce(input: dict) -> str:\n",
    "    prompt = reduce_prompt.invoke(input)\n",
    "    response = await llm.ainvoke(prompt)\n",
    "    return response.content\n",
    "\n",
    "\n",
    "# Add node to collapse summaries\n",
    "async def collapse_summaries(state: OverallState):\n",
    "    # Split Documents into subsets that each meet a cumulative length constraint.\n",
    "    # i.e. ensure each Document is less than 1000 tokens\n",
    "    doc_lists = split_list_of_docs(\n",
    "        state[\"collapsed_summaries\"], length_function, token_max\n",
    "    )\n",
    "    results = []\n",
    "    for doc_list in doc_lists:\n",
    "        # Execute a collapse function (_reduce) on a set of documents and merge their metadata\n",
    "        results.append(await acollapse_docs(doc_list, _reduce))\n",
    "\n",
    "    return {\"collapsed_summaries\": results}\n",
    "\n",
    "\n",
    "# This represents a conditional edge in the graph that determines\n",
    "# if we should collapse the summaries or not\n",
    "def should_collapse(\n",
    "    state: OverallState,\n",
    ") -> Literal[\"collapse_summaries\", \"generate_final_summary\"]:\n",
    "    num_tokens = length_function(state[\"collapsed_summaries\"])\n",
    "    if num_tokens > token_max:\n",
    "        return \"collapse_summaries\"\n",
    "    else:\n",
    "        return \"generate_final_summary\"\n",
    "\n",
    "\n",
    "# Here we will generate the final summary\n",
    "async def generate_final_summary(state: OverallState):\n",
    "    response = await _reduce(state[\"collapsed_summaries\"])\n",
    "    return {\"final_summary\": response}\n",
    "\n",
    "\n",
    "# Construct the graph\n",
    "# Nodes:\n",
    "graph = StateGraph(OverallState)\n",
    "graph.add_node(\"generate_summary\", generate_summary)  # same as before\n",
    "graph.add_node(\"collect_summaries\", collect_summaries)\n",
    "graph.add_node(\"collapse_summaries\", collapse_summaries)\n",
    "graph.add_node(\"generate_final_summary\", generate_final_summary)\n",
    "\n",
    "# Edges:\n",
    "graph.add_conditional_edges(START, map_summaries, [\"generate_summary\"])\n",
    "graph.add_edge(\"generate_summary\", \"collect_summaries\")\n",
    "# should_collapse returns the name of the function that should be called next, based on the state after Collect_summaries.\n",
    "graph.add_conditional_edges(\"collect_summaries\", should_collapse)\n",
    "graph.add_conditional_edges(\"collapse_summaries\", should_collapse)\n",
    "graph.add_edge(\"generate_final_summary\", END)\n",
    "\n",
    "app = graph.compile()\n",
    "from IPython.display import Image\n",
    "\n",
    "Image(app.get_graph().draw_mermaid_png())"
   ]
  },
  {
   "cell_type": "code",
   "execution_count": 12,
   "id": "58524f3f-475e-4cb6-8ded-b651c849ca3b",
   "metadata": {},
   "outputs": [
    {
     "name": "stdout",
     "output_type": "stream",
     "text": [
      "['generate_summary']\n",
      "['generate_summary']\n",
      "['generate_summary']\n",
      "['generate_summary']\n",
      "['generate_summary']\n",
      "['generate_summary']\n",
      "['generate_summary']\n",
      "['generate_summary']\n",
      "['generate_summary']\n",
      "['generate_summary']\n",
      "['generate_summary']\n",
      "['generate_summary']\n",
      "['generate_summary']\n",
      "['collect_summaries']\n",
      "['collapse_summaries']\n",
      "['collapse_summaries']\n",
      "['generate_final_summary']\n",
      "{'generate_final_summary': {'final_summary': 'The consolidated summary of the main themes from the documents emphasizes the following key areas:\\n\\n1. **Advancements in Autonomous Agents and LLM Integration**:\\n   - **Core Components**: Autonomous agents leverage task decomposition strategies (like Chain of Thought) and memory systems (sensory, short-term, and long-term) for enhanced reasoning and effective task management.\\n   - **Tool Utilization**: The integration of external APIs is crucial for improved problem-solving capabilities and broader access to information.\\n\\n2. **Learning and Adaptivity**:\\n   - Frameworks such as ReAct and Reflexion enable agents to self-reflect, learn from past actions, and enhance their decision-making processes through mechanisms like Chain of Hindsight and Algorithm Distillation.\\n\\n3. **Generative Agents and Simulated Interactions**:\\n   - Generative Agents mimic human behavior and demonstrate emergent social interactions, utilizing memory and reflection to learn in controlled environments.\\n\\n4. **Software Architecture and Best Practices**:\\n   - A well-structured software architecture in Python, emphasizing clear organization (e.g., key components like classes and modules) and adherence to coding best practices, is fundamental for maintainability and clarity.\\n\\n5. **Collaborative Development**:\\n   - Focus on collaborative coding practices that ensure clarity and guidance throughout the development process enhances overall project effectiveness.\\n\\n6. **Challenges and Potential of LLMs**:\\n   - While LLMs can bolster problem-solving through reasoning and adaptive learning, they face limitations in context handling and task adjustment compared to human capabilities.\\n\\nIn summary, the documents highlight the integration of advanced methodologies in both autonomous agents powered by LLMs and structured software development practices as essential for improving AI capabilities and enhancing user interactions.'}}\n"
     ]
    }
   ],
   "source": [
    "async for step in app.astream(\n",
    "    {\"contents\": [doc.page_content for doc in split_docs]},\n",
    "    {\"recursion_limit\": 10},\n",
    "):\n",
    "    print(list(step.keys()))"
   ]
  },
  {
   "cell_type": "code",
   "execution_count": 13,
   "id": "6fa6dfb3-2eda-4248-ace4-b7def4941cd5",
   "metadata": {},
   "outputs": [
    {
     "name": "stdout",
     "output_type": "stream",
     "text": [
      "{'generate_final_summary': {'final_summary': 'The consolidated summary of the main themes from the documents emphasizes the following key areas:\\n\\n1. **Advancements in Autonomous Agents and LLM Integration**:\\n   - **Core Components**: Autonomous agents leverage task decomposition strategies (like Chain of Thought) and memory systems (sensory, short-term, and long-term) for enhanced reasoning and effective task management.\\n   - **Tool Utilization**: The integration of external APIs is crucial for improved problem-solving capabilities and broader access to information.\\n\\n2. **Learning and Adaptivity**:\\n   - Frameworks such as ReAct and Reflexion enable agents to self-reflect, learn from past actions, and enhance their decision-making processes through mechanisms like Chain of Hindsight and Algorithm Distillation.\\n\\n3. **Generative Agents and Simulated Interactions**:\\n   - Generative Agents mimic human behavior and demonstrate emergent social interactions, utilizing memory and reflection to learn in controlled environments.\\n\\n4. **Software Architecture and Best Practices**:\\n   - A well-structured software architecture in Python, emphasizing clear organization (e.g., key components like classes and modules) and adherence to coding best practices, is fundamental for maintainability and clarity.\\n\\n5. **Collaborative Development**:\\n   - Focus on collaborative coding practices that ensure clarity and guidance throughout the development process enhances overall project effectiveness.\\n\\n6. **Challenges and Potential of LLMs**:\\n   - While LLMs can bolster problem-solving through reasoning and adaptive learning, they face limitations in context handling and task adjustment compared to human capabilities.\\n\\nIn summary, the documents highlight the integration of advanced methodologies in both autonomous agents powered by LLMs and structured software development practices as essential for improving AI capabilities and enhancing user interactions.'}}\n"
     ]
    }
   ],
   "source": [
    "print(step)"
   ]
  }
 ],
 "metadata": {
  "kernelspec": {
   "display_name": "Python 3 (ipykernel)",
   "language": "python",
   "name": "python3"
  },
  "language_info": {
   "codemirror_mode": {
    "name": "ipython",
    "version": 3
   },
   "file_extension": ".py",
   "mimetype": "text/x-python",
   "name": "python",
   "nbconvert_exporter": "python",
   "pygments_lexer": "ipython3",
   "version": "3.13.5"
  }
 },
 "nbformat": 4,
 "nbformat_minor": 5
}
