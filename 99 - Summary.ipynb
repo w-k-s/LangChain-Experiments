{
 "cells": [
  {
   "cell_type": "markdown",
   "id": "edd88394-3b53-4ae8-9c5c-00573b01bfdd",
   "metadata": {},
   "source": [
    "# Summary"
   ]
  },
  {
   "cell_type": "markdown",
   "id": "dcd0f761-8f80-4ebf-b9a3-70431f3ac856",
   "metadata": {},
   "source": [
    "## Documents\n",
    "\n",
    "- A Document is the unix of text that the LLM processes in order to answer queries. \n",
    "- A Document is not necessarly the whole file: files are typically chunked. Documents usually contain metadata including the name of the original document, the page from where the part of the document was extracted, author e.t.c.\n",
    "- Full texts are usually split into document chunks to optimise LLm output. Larger chunks = more stuff in context = more risk of hallunication. \n",
    "\n",
    "## Embeddings\n",
    "\n",
    "- LLMs store text as vectors in a high-dimensional space\n",
    "- In this space, the position of each point (embedding) reflects the meaning of its corresponding text.\n",
    "Just as similar words might be close to each other in a thesaurus, similar concepts end up close to each other in this embedding space.\n",
    "- In simpler words: LLMs store text in \"space\". The way that text is store relative to each other captures the relationship between the text. So text close to each other might have similar meaning. Text at a higher vertical axis might describe parent chld relationship. \n",
    " \n",
    "## Vector Stores\n",
    "\n",
    "- A vector store is a specialised database for storing and querying embeddings. It supports standard operations like create, read, update, and delete (CRUD).\n",
    "- For retrieval, it allows searching for semantically similar text by comparing embedding vectors using similarity metrics such as cosine similarity.\n",
    "\n",
    "\n",
    "## Tool Calling\n",
    "- Tool calling enables an LLM to interact with systems e.g. calling an API or querying a database.\n",
    "- When interacting with external tools, the request and response typically needs to confirm to a schema e.g. API Request Payload, SQL query structure.\n",
    "\n",
    "## Structured Output\n",
    "\n",
    "- \n",
    "\n",
    "## Few-shot Prompting\n",
    "- Few-shot prompting is a technique used with large language models (LLMs) where you provide a small number of examples (typically 1–5) within the prompt to show the model how to perform a task\n",
    "- Importantly, the examples should include \"negatives\" so that the LLM understands how to handle such cases.\n",
    "- **Different chat model providers impose different requirements for valid message sequences**\n"
   ]
  },
  {
   "cell_type": "code",
   "execution_count": null,
   "id": "91cc86f5-1e24-493f-b1f8-4a4c9655bb0e",
   "metadata": {},
   "outputs": [],
   "source": []
  }
 ],
 "metadata": {
  "kernelspec": {
   "display_name": "Python 3 (ipykernel)",
   "language": "python",
   "name": "python3"
  },
  "language_info": {
   "codemirror_mode": {
    "name": "ipython",
    "version": 3
   },
   "file_extension": ".py",
   "mimetype": "text/x-python",
   "name": "python",
   "nbconvert_exporter": "python",
   "pygments_lexer": "ipython3",
   "version": "3.13.5"
  }
 },
 "nbformat": 4,
 "nbformat_minor": 5
}
