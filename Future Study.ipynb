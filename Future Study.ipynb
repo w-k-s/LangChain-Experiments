{
 "cells": [
  {
   "cell_type": "markdown",
   "id": "2c9bb33d-c49a-490c-826f-7be40267284e",
   "metadata": {},
   "source": [
    "# Future Study\n",
    "\n",
    "1. [How to include sources in RAG?](https://python.langchain.com/docs/how_to/qa_sources/)\n",
    "2. [Retrieval Techniques](https://python.langchain.com/docs/concepts/retrieval/)\n",
    "3. [Retriever Types](https://python.langchain.com/docs/how_to/#retrievers)"
   ]
  }
 ],
 "metadata": {
  "kernelspec": {
   "display_name": "Python 3 (ipykernel)",
   "language": "python",
   "name": "python3"
  },
  "language_info": {
   "codemirror_mode": {
    "name": "ipython",
    "version": 3
   },
   "file_extension": ".py",
   "mimetype": "text/x-python",
   "name": "python",
   "nbconvert_exporter": "python",
   "pygments_lexer": "ipython3",
   "version": "3.13.5"
  }
 },
 "nbformat": 4,
 "nbformat_minor": 5
}
